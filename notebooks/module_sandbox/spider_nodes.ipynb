{
 "cells": [
  {
   "cell_type": "code",
   "execution_count": 1,
   "metadata": {},
   "outputs": [],
   "source": [
    "import torch\n",
    "import networkx as nx\n",
    "import numpy as np\n",
    "from collections import Counter"
   ]
  },
  {
   "cell_type": "markdown",
   "metadata": {},
   "source": [
    "# Get the karate club example graph"
   ]
  },
  {
   "cell_type": "code",
   "execution_count": 2,
   "metadata": {},
   "outputs": [],
   "source": [
    "G = nx.karate_club_graph()"
   ]
  },
  {
   "cell_type": "markdown",
   "metadata": {},
   "source": [
    "## Auxiliary functions to help spidering process"
   ]
  },
  {
   "cell_type": "code",
   "execution_count": 3,
   "metadata": {},
   "outputs": [],
   "source": [
    "def merge_dols(list_of_dicts):\n",
    "    \"\"\"\n",
    "    Marge a list of dictionaries of lists.\n",
    "    \n",
    "    Args:\n",
    "    - list_of_dicts (list) - List containing a set of dictionaries to merge.\n",
    "        Each dictionary value should be list-type.\n",
    "        \n",
    "    Returns:\n",
    "    - A dictionary where the unique values for each key have merged. \n",
    "    \"\"\"\n",
    "    # Get the first dictionary\n",
    "    base_dict = list_of_dicts.pop()\n",
    "    \n",
    "    # Placeholder for empty list\n",
    "    no = []\n",
    "    \n",
    "    # Loop through all of the remaining dictionaries in the list\n",
    "    while len(list_of_dicts) > 0:\n",
    "        \n",
    "        # Get the next new dictionary\n",
    "        new_dict = list_of_dicts.pop()\n",
    "        \n",
    "        # Extract all unique keys from the two dictionaries\n",
    "        keys = set(base_dict).union(new_dict)\n",
    "        \n",
    "        # Merge in the new items for each key uniquely\n",
    "        base_dict = dict((k, list(set(base_dict.get(k, no) + new_dict.get(k, no)))) for k in keys)\n",
    "        \n",
    "    # Return the final merged dictionary\n",
    "    return base_dict\n",
    "\n",
    "def flatten(l):\n",
    "    \"\"\"\n",
    "    Flatten a list of lists one level.\n",
    "    \n",
    "    Args:\n",
    "    - l (list) - List of lists\n",
    "    \n",
    "    Returns:\n",
    "    - A flattened list.\n",
    "    \"\"\"\n",
    "    return [item for sublist in l for item in sublist]"
   ]
  },
  {
   "cell_type": "markdown",
   "metadata": {},
   "source": [
    "## Function to spider out from focal nodes"
   ]
  },
  {
   "cell_type": "code",
   "execution_count": 12,
   "metadata": {},
   "outputs": [],
   "source": [
    "def spider_nodes(nodes, graph, neighborhood_size):\n",
    "    \"\"\"\n",
    "    Spider out from a set of base nodes to return a fixed-sized neighborhood.\n",
    "    \n",
    "    Args:\n",
    "    - nodes (list) - List of all nodes from which to spider out.\n",
    "    - graph (networkx.Graph) - Graph of the full covalent structure.\n",
    "    - neighborhood_size (int) - Size of neighborhood to be returned (including `nodes`).\n",
    "    \n",
    "    Returns:\n",
    "    - Subgraph (networkx Graph object) containing the local neighborhood around the focal nodes\n",
    "        specified in `nodes` argument.\n",
    "    \"\"\"\n",
    "    \n",
    "    # Get the successor trees for all of the focal nodes\n",
    "    successors = merge_dols([dict(nx.bfs_successors(G, node)) for node in nodes])\n",
    "\n",
    "    # Add the focal nodes to the nodeset\n",
    "    nodeset = {*nodes}\n",
    "    \n",
    "    # Ensure that neighborhood size is large enough to fit focal nodes\n",
    "    if len(nodeset) > neighborhood_size:\n",
    "        raise(ValueError(f'Neighborhood size ({neighborhood_size}) not large enough to fit focal nodes ({len(nodeset)}).'))\n",
    "\n",
    "    # Generate a path from the focal nodes\n",
    "    path = nodeset\n",
    "\n",
    "    # Keep increasing the neighborhood stepwise until the neighborhood size limit is reached\n",
    "    # or there are no more nodes to add\n",
    "    while len(nodeset) < neighborhood_size and path:\n",
    "\n",
    "        # Get all node descendents (successors)\n",
    "        node_dec = [successors[node] for node in path if node in successors]\n",
    "        node_dec = flatten(node_dec)\n",
    "        new_nodeset = set(node_dec)\n",
    "        \n",
    "        # Get the new set of nodes that may potentially be added to the neighborhood\n",
    "        nodeset_union = nodeset.union(new_nodeset)\n",
    "        path = new_nodeset.difference(nodeset)\n",
    "\n",
    "        # Add new nodes to neighborhood if there is space\n",
    "        if len(nodeset_union) <= neighborhood_size:\n",
    "            nodeset = nodeset_union\n",
    "\n",
    "        # Otherwise sample the new nodes weighted by the number of connections to nodes\n",
    "        # already in the neighborhood\n",
    "        else:\n",
    "            edge_count = Counter(node_dec)\n",
    "            sample_list = list(new_nodeset.difference(nodeset))\n",
    "            p = np.array([edge_count[node] for node in sample_list])\n",
    "            p = p / p.sum()\n",
    "            size = neighborhood_size - len(nodeset)\n",
    "            sample_set = set(np.random.choice(sample_list, size=size, replace=False, p=p))\n",
    "            nodeset = nodeset.union(sample_set)\n",
    "            \n",
    "    return nodeset"
   ]
  },
  {
   "cell_type": "code",
   "execution_count": null,
   "metadata": {},
   "outputs": [],
   "source": [
    "%%timeit\n",
    "np.random.seed(0)\n",
    "nodeset2 = spider_nodes([24, 25, 7, 8], G, 20)"
   ]
  },
  {
   "cell_type": "code",
   "execution_count": 17,
   "metadata": {},
   "outputs": [
    {
     "name": "stdout",
     "output_type": "stream",
     "text": [
      "20\n",
      "{0, 1, 2, 3, 32, 33, 7, 8, 13, 14, 18, 19, 20, 23, 24, 25, 27, 28, 30, 31}\n"
     ]
    }
   ],
   "source": [
    "nodeset2 = spider_nodes([24, 25, 7, 8], G, 20)\n",
    "print(len(nodeset2))\n",
    "print(nodeset2)"
   ]
  },
  {
   "cell_type": "code",
   "execution_count": 18,
   "metadata": {},
   "outputs": [],
   "source": [
    "H = G.subgraph(nodeset2)"
   ]
  },
  {
   "cell_type": "code",
   "execution_count": 19,
   "metadata": {},
   "outputs": [
    {
     "data": {
      "image/png": "[encoded data removed]",
      "text/plain": [
       "<Figure size 432x288 with 1 Axes>"
      ]
     },
     "metadata": {},
     "output_type": "display_data"
    }
   ],
   "source": [
    "nx.draw_networkx(H, with_labels=True)"
   ]
  },
  {
   "cell_type": "markdown",
   "metadata": {},
   "source": [
    "# Tests"
   ]
  },
  {
   "cell_type": "code",
   "execution_count": 16,
   "metadata": {},
   "outputs": [],
   "source": [
    "# Test merge_dols\n",
    "dict1 = {\n",
    "    1: [2, 3],\n",
    "    2: [4, 5],\n",
    "}\n",
    "\n",
    "dict2 = {\n",
    "    2: [4, 5, 6],\n",
    "    6: [7]\n",
    "}\n",
    "\n",
    "manual_combine = {\n",
    "    1: [2, 3],\n",
    "    2: [4, 5, 6],\n",
    "    6: [7]\n",
    "}\n",
    "\n",
    "out_dict = merge_dols([dict1, dict2])\n",
    "\n",
    "assert manual_combine == out_dict\n",
    "\n",
    "\n",
    "# Test flatten\n",
    "lols = [[1, 2, 3], [4, 5, 6]]\n",
    "assert flatten(lols) == [1, 2, 3, 4, 5, 6]\n",
    "\n",
    "# Only flattens one level\n",
    "lols = [[1, 2, 3], [4, 5, 6, [7, 8]]]\n",
    "assert flatten(lols) == [1, 2, 3, 4, 5, 6, [7, 8]]\n",
    "\n",
    "\n",
    "# Test spider\n",
    "np.random.seed(0)\n",
    "nodeset = spider_nodes([24, 25, 7, 8], G, 20)\n",
    "assert len(nodeset) == 20\n",
    "\n",
    "np.random.seed(0)\n",
    "nodeset = spider_nodes([24, 25, 7, 8], G, 30)\n",
    "assert len(nodeset) == 30\n",
    "\n",
    "# Test beyond number of nodes in graph\n",
    "np.random.seed(0)\n",
    "nodeset = spider_nodes([24, 25, 7, 8], G, 40)\n",
    "assert len(nodeset) == 34"
   ]
  },
  {
   "cell_type": "code",
   "execution_count": null,
   "metadata": {},
   "outputs": [],
   "source": []
  }
 ],
 "metadata": {
  "kernelspec": {
   "display_name": "Python 3",
   "language": "python",
   "name": "python3"
  },
  "language_info": {
   "codemirror_mode": {
    "name": "ipython",
    "version": 3
   },
   "file_extension": ".py",
   "mimetype": "text/x-python",
   "name": "python",
   "nbconvert_exporter": "python",
   "pygments_lexer": "ipython3",
   "version": "3.6.7"
  }
 },
 "nbformat": 4,
 "nbformat_minor": 4
}
