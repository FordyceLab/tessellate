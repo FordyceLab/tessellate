{
 "cells": [
  {
   "cell_type": "markdown",
   "metadata": {},
   "source": [
    "# Purpose\n",
    "\n",
    "To reduce the size of the model while maintaining maximal information content, I will cluster all of the channels of each contact map and take a respresentative channel from each cluster."
   ]
  },
  {
   "cell_type": "code",
   "execution_count": 1,
   "metadata": {},
   "outputs": [],
   "source": [
    "# A little magic\n",
    "%load_ext autoreload\n",
    "%autoreload 2\n",
    "%matplotlib inline"
   ]
  },
  {
   "cell_type": "code",
   "execution_count": 67,
   "metadata": {},
   "outputs": [],
   "source": [
    "# Imports\n",
    "import h5py\n",
    "from matplotlib import pyplot as plt\n",
    "import numpy as np\n",
    "from scipy.cluster.hierarchy import dendrogram, linkage\n",
    "from scipy.sparse import coo_matrix\n",
    "import sklearn.cluster\n",
    "import torch\n",
    "import itertools\n",
    "from tqdm import *"
   ]
  },
  {
   "cell_type": "markdown",
   "metadata": {},
   "source": [
    "## Handle reading the HDF5 file containing all of the data"
   ]
  },
  {
   "cell_type": "code",
   "execution_count": 88,
   "metadata": {},
   "outputs": [
    {
     "name": "stderr",
     "output_type": "stream",
     "text": [
      "100%|██████████| 60895/60895 [3:31:54<00:00,  4.79it/s]\n"
     ]
    }
   ],
   "source": [
    "# Make a counts matrix to store co-clustering of \n",
    "counts = np.zeros((12, 12))\n",
    "\n",
    "with h5py.File('../../data/contacts.hdf5', 'r') as h5file:\n",
    "    keys = list(h5file.keys())\n",
    "    for entry in tqdm(keys):\n",
    "        atomtypes = h5file[entry]['memberships'][:]\n",
    "        memberships = h5file[entry]['memberships'][:]\n",
    "        target = torch.from_numpy(h5file[entry]['target'][:].astype(np.int64))\n",
    "        target[:, 2] = target[:, 2] - 3\n",
    "        \n",
    "        n_res = np.max(memberships[:, 0]) + 1\n",
    "        val = torch.ones(len(target))\n",
    "        size = torch.Size([n_res, n_res, 12])\n",
    "        \n",
    "        contact_map = torch.sparse.FloatTensor(target.t(), val, size)\n",
    "        contact_map = contact_map.to_dense().numpy().transpose((2, 0, 1)).reshape(12, -1)\n",
    "        \n",
    "        \n",
    "        n_clust = 4\n",
    "        clustering = sklearn.cluster.AgglomerativeClustering(n_clust).fit(contact_map)\n",
    "        labels = clustering.labels_\n",
    "        \n",
    "        for i in range(n_clust):\n",
    "            channels = np.where(labels == i)[0]\n",
    "            for j in itertools.product(channels, repeat=2):\n",
    "                counts[int(j[0]), int(j[1])] += 1"
   ]
  },
  {
   "cell_type": "code",
   "execution_count": 92,
   "metadata": {},
   "outputs": [
    {
     "data": {
      "text/plain": [
       "<matplotlib.image.AxesImage at 0x7fe9c0a5bf28>"
      ]
     },
     "execution_count": 92,
     "metadata": {},
     "output_type": "execute_result"
    },
    {
     "data": {
      "image/png": "[encoded data removed]",
      "text/plain": [
       "<Figure size 432x288 with 1 Axes>"
      ]
     },
     "metadata": {
      "needs_background": "light"
     },
     "output_type": "display_data"
    }
   ],
   "source": [
    "plt.imshow(counts / len(keys), cmap='gray')"
   ]
  },
  {
   "cell_type": "code",
   "execution_count": null,
   "metadata": {},
   "outputs": [],
   "source": []
  }
 ],
 "metadata": {
  "kernelspec": {
   "display_name": "Python 3",
   "language": "python",
   "name": "python3"
  },
  "language_info": {
   "codemirror_mode": {
    "name": "ipython",
    "version": 3
   },
   "file_extension": ".py",
   "mimetype": "text/x-python",
   "name": "python",
   "nbconvert_exporter": "python",
   "pygments_lexer": "ipython3",
   "version": "3.6.7"
  }
 },
 "nbformat": 4,
 "nbformat_minor": 2
}
